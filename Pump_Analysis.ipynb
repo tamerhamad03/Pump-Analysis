{
  "nbformat": 4,
  "nbformat_minor": 0,
  "metadata": {
    "colab": {
      "provenance": [],
      "authorship_tag": "ABX9TyM/NjBWEdTd/UrtSnj3ijtF",
      "include_colab_link": true
    },
    "kernelspec": {
      "name": "python3",
      "display_name": "Python 3"
    },
    "language_info": {
      "name": "python"
    }
  },
  "cells": [
    {
      "cell_type": "markdown",
      "metadata": {
        "id": "view-in-github",
        "colab_type": "text"
      },
      "source": [
        "<a href=\"https://colab.research.google.com/github/tamerhamad03/Pump-Analysis/blob/main/Pump_Analysis.ipynb\" target=\"_parent\"><img src=\"https://colab.research.google.com/assets/colab-badge.svg\" alt=\"Open In Colab\"/></a>"
      ]
    },
    {
      "cell_type": "markdown",
      "source": [
        "**Pump Analysis**"
      ],
      "metadata": {
        "id": "EW3uZRcNiIpG"
      }
    },
    {
      "cell_type": "code",
      "source": [
        "# -----------------------------\n",
        "# Benötigte Bibliotheken laden\n",
        "# -----------------------------\n",
        "import pandas as pd                 # Für Tabellen und CSV-Verarbeitung\n",
        "import numpy as np                  # Für numerische Berechnungen\n",
        "import matplotlib.pyplot as plt     # Für Plots\n",
        "import matplotlib.dates as mdates   # Für Zeitachsen-Formatierung\n",
        "\n",
        "url = 'https://raw.githubusercontent.com/tamerhamad03/Pump-Analysis/refs/heads/main/volume_flow_data.csv'\n",
        "df = pd.read_csv(url)\n",
        "df.head()                           # Ausgabeder ersten 5 Zeilen der CSV-Datei zur Überprüfung"
      ],
      "metadata": {
        "id": "-ZR20jl1XMDD"
      },
      "execution_count": null,
      "outputs": []
    },
    {
      "cell_type": "markdown",
      "source": [
        "**Task 1: Calculate the energy consumption**"
      ],
      "metadata": {
        "id": "WqEHFC3RL29v"
      }
    },
    {
      "cell_type": "code",
      "source": [
        "rho = 969\n",
        "g = 9.81\n",
        "dt = 60\n",
        "eta = 0.831\n",
        "\n",
        "df = pd.read_csv('volume_flow_data.csv', index_col=False)   # CSV-Datei einlesen, alle Spalten normal als Daten übernehmen (keine Indexspalte setzen)\n",
        "df.columns = ['timestamp','volume_flow_m^3/h']              # Spalten in \"timestamp\" und \"volume_flow_m^3/h\" umbenennen\n",
        "df['volume_flow_m^3/s'] = df['volume_flow_m^3/h']/ 3600     # Umrechnung des Volumenstroms von m³/h in m³/s\n",
        "\n",
        "flow_values = [110, 240, 300, 350, 400, 500, 540, 555]      # Referenz-Volumenströme in m³/h\n",
        "height_values = [23, 22, 21, 20, 19, 16, 14.5, 14.3]        # zugehörige Förderhöhen in m\n",
        "\n",
        "df['height_m'] =np.interp(df['volume_flow_m^3/h'], flow_values, height_values)      # Förderhöhe für jeden Messpunkt anhand Volumenstrom interpolieren\n",
        "\n",
        "df['P_hyd'] = rho * g * df['volume_flow_m^3/s'] * df['height_m']      # Berechnung der Hydraulischen Leistung in kW\n",
        "df['P_el'] = df['P_hyd'] / eta                                        # Berechnung der Elektrischen Leistung mithilfe des festen Wirkungsgrad \"eta\" aus dem Datenblatt\n",
        "df['E_el'] = df['P_el'] * dt                                          # Berechnung der gesamten zugeführten Energie in kWs\n",
        "total_energy_consumption = df['E_el'].sum() / 3.6e6                   # Umrechnung der gesamten zugeführten Energie in kWh\n",
        "print(f\"Total energy consumption: {total_energy_consumption} kWh\")    # Ausgeben des Wertes für die gesamte zugeführte Energie in kWh\n",
        "\n",
        "df.head()                                                             # Ausgabeder ersten 5 Zeilen der CSV-Datei zur Überprüfung\n"
      ],
      "metadata": {
        "id": "2jsKJIhPXO43"
      },
      "execution_count": null,
      "outputs": []
    },
    {
      "cell_type": "markdown",
      "source": [
        "**Task 2: Average pump efficiency**"
      ],
      "metadata": {
        "id": "OL3ZOCj92_hI"
      }
    },
    {
      "cell_type": "code",
      "source": [
        "flow_values = [110, 200, 300, 350, 400, 500, 555]           # Referenz-Volumenströme in m³/h\n",
        "eta_values = [0.45, 0.65, 0.79, 0.83, 0.85, 0.85, 0.81]     # zugehörige Wirkungsgrade\n",
        "\n",
        "df['efficiency'] = np.interp(df['volume_flow_m^3/h'], flow_values, eta_values)    # Wirkungsgrade für jeden Messpunkt anhand Volumenstrom interpolieren\n",
        "average_eta = df['efficiency'].mean()                                             # Berechnung des durchschnittlichen Mittelwertes\n",
        "print(f\"Durchschnittlicher Pumpenwirkungsgrad (aus Kennlinie interpoliert):{average_eta:.3f} oder {average_eta*100:.2f} %\")     # Ausgeben des Wertes für den durchschnittlichen Pumpenwirkungsgrad\n"
      ],
      "metadata": {
        "id": "iZncoh6mKO4i"
      },
      "execution_count": null,
      "outputs": []
    },
    {
      "cell_type": "markdown",
      "source": [
        "**Task 3: Calculate the unused energy**"
      ],
      "metadata": {
        "id": "gx06TPsD3Qco"
      }
    },
    {
      "cell_type": "code",
      "source": [
        "df['P_hyd'] = df['P_el'] * average_eta                                    # Berechnung der hydraulischen Leistung mit dem aus der Kennlinie interpolierten durchschnittlichen Wirkungsgrad in kW\n",
        "df['E_hyd'] = df['P_hyd'] * dt                                            # Berechnung der hydraulischen Energie in kWs\n",
        "total_hydraulic_energy = df['E_hyd'].sum() / 3.6e6                        # Umrechnung der hydraulischen Energie in kWh\n",
        "print(f\"Total total hydraulic energy: {total_hydraulic_energy} kWh\")      # Ausgeben des Wertes der hydraulischen Energie in kWh\n",
        "\n",
        "unused_energy_kWh = total_energy_consumption - total_hydraulic_energy     # Berechnung der ungenutzten Energie\n",
        "print(f\"Nicht genutzte Energie (Verluste): {unused_energy_kWh:.2f} kWh\")  # Ausgeben des Wertes de ungenutzten Energie"
      ],
      "metadata": {
        "id": "JiLsEKnb3Phr"
      },
      "execution_count": null,
      "outputs": []
    },
    {
      "cell_type": "markdown",
      "source": [
        "**Task 4: Add additional analysis**"
      ],
      "metadata": {
        "id": "Hqeh6phVPD-y"
      }
    },
    {
      "cell_type": "code",
      "source": [
        "# Sicherstellen, dass die Zeitspalte richtig interpretiert wird\n",
        "df['timestamp'] = pd.to_datetime(df['timestamp'])\n",
        "\n",
        "# Gleitender Mittelwert (Fenster = 5)\n",
        "def moving_average(values, window=5):\n",
        "    weights = np.ones(window) / window\n",
        "    return np.convolve(values, weights, mode='same')\n",
        "\n",
        "# Leistungen in kW berechnen\n",
        "df['P_el_kW'] = df['P_el'] / 1000\n",
        "df['P_hyd_kW'] = df['P_hyd'] / 1000\n",
        "df['P_loss_kW'] = df['P_el_kW'] - df['P_hyd_kW']\n",
        "\n",
        "# Werte glätten\n",
        "df['Q_smooth'] = moving_average(df['volume_flow_m^3/h'], 5)\n",
        "df['el_smooth'] = moving_average(df['P_el_kW'], 5)\n",
        "df['hyd_smooth'] = moving_average(df['P_hyd_kW'], 5)\n",
        "df['loss_smooth'] = moving_average(df['P_loss_kW'], 5)\n",
        "\n",
        "# --- Funktion für 4-Stunden-Takt auf X-Achse ---\n",
        "def format_x_axis(ax):\n",
        "    ax.xaxis.set_major_locator(mdates.HourLocator(interval=4))\n",
        "    ax.xaxis.set_major_formatter(mdates.DateFormatter('%H:%M'))\n",
        "    plt.xticks(rotation=45)\n",
        "\n",
        "# -------------------------------\n",
        "# Plot 1: Volumenstrom über Zeit\n",
        "# -------------------------------\n",
        "fig, ax1 = plt.subplots(figsize=(13, 4))\n",
        "ax1.plot(df['timestamp'], df['Q_smooth'], color='royalblue', lw=1.8)\n",
        "ax1.set_title('Flow rate over time')\n",
        "ax1.set_xlabel('Time')\n",
        "ax1.set_ylabel('Flow [m³/h]')\n",
        "ax1.grid(True, linestyle=':', alpha=0.6)\n",
        "format_x_axis(ax1)\n",
        "plt.tight_layout()\n",
        "plt.show()\n",
        "\n",
        "# ------------------------------------------\n",
        "# Plot 2: Hydraulische vs. elektrische Power\n",
        "# ------------------------------------------\n",
        "fig, ax2 = plt.subplots(figsize=(13, 4))\n",
        "ax2.plot(df['timestamp'], df['el_smooth'], label='Electric power [kW]', color='darkorange', lw=1.8)\n",
        "ax2.plot(df['timestamp'], df['hyd_smooth'], label='Hydraulic power [kW]', color='seagreen', lw=1.8)\n",
        "ax2.set_title('Comparison: Input vs. Output Power')\n",
        "ax2.set_xlabel('Time')\n",
        "ax2.set_ylabel('Power [kW]')\n",
        "ax2.legend()\n",
        "ax2.grid(True, linestyle='--', alpha=0.5)\n",
        "format_x_axis(ax2)\n",
        "plt.tight_layout()\n",
        "plt.show()\n",
        "\n",
        "# -------------------------------\n",
        "# Plot 3: Leistungsverlust über Zeit\n",
        "# -------------------------------\n",
        "fig, ax3 = plt.subplots(figsize=(13, 4))\n",
        "ax3.plot(df['timestamp'], df['loss_smooth'], color='crimson', lw=1.8)\n",
        "ax3.set_title('Power loss over time')\n",
        "ax3.set_xlabel('Time')\n",
        "ax3.set_ylabel('Loss [kW]')\n",
        "ax3.grid(True, linestyle='--', alpha=0.5)\n",
        "format_x_axis(ax3)\n",
        "plt.tight_layout()\n",
        "plt.show()\n",
        "\n"
      ],
      "metadata": {
        "id": "KvEinLyJCd8J"
      },
      "execution_count": null,
      "outputs": []
    }
  ]
}